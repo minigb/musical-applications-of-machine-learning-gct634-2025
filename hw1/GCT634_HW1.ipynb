{
  "nbformat": 4,
  "nbformat_minor": 0,
  "metadata": {
    "colab": {
      "provenance": []
    },
    "kernelspec": {
      "name": "python3",
      "display_name": "Python 3"
    },
    "language_info": {
      "name": "python"
    }
  },
  "cells": [
    {
      "cell_type": "markdown",
      "source": [
        "# Musical Instrument Recognition  (Single-Label Classification)"
      ],
      "metadata": {
        "id": "V-NMBe7RjD63"
      }
    },
    {
      "cell_type": "markdown",
      "source": [
        "# Importing Packages"
      ],
      "metadata": {
        "id": "HSC4VdLlJgOO"
      }
    },
    {
      "cell_type": "code",
      "source": [
        "# load libraries\n",
        "import sys\n",
        "import os\n",
        "import numpy as np\n",
        "import librosa\n",
        "from sklearn.linear_model import SGDClassifier\n",
        "import matplotlib.pyplot as plt"
      ],
      "metadata": {
        "id": "2lvbCxx7sD9e"
      },
      "execution_count": null,
      "outputs": []
    },
    {
      "cell_type": "markdown",
      "source": [
        "# Global Settings\n"
      ],
      "metadata": {
        "id": "W_U1PrNWQjsy"
      }
    },
    {
      "cell_type": "code",
      "source": [
        "# download the dataset file\n",
        "!gdown --id 1rGXx_f-4VlSXJIje7DaCBl38dl14GwWX"
      ],
      "metadata": {
        "colab": {
          "base_uri": "https://localhost:8080/"
        },
        "id": "k9T60Jol4A7G",
        "outputId": "4be6f09b-8b07-49f2-e7cd-129f6c79a5ab"
      },
      "execution_count": null,
      "outputs": [
        {
          "output_type": "stream",
          "name": "stdout",
          "text": [
            "/usr/local/lib/python3.10/dist-packages/gdown/cli.py:138: FutureWarning: Option `--id` was deprecated in version 4.3.1 and will be removed in 5.0. You don't need to pass it anymore to use a file ID.\n",
            "  warnings.warn(\n",
            "Downloading...\n",
            "From (original): https://drive.google.com/uc?id=1rGXx_f-4VlSXJIje7DaCBl38dl14GwWX\n",
            "From (redirected): https://drive.google.com/uc?id=1rGXx_f-4VlSXJIje7DaCBl38dl14GwWX&confirm=t&uuid=76cf7b83-af1b-491e-9d1f-39030b50afaa\n",
            "To: /content/gct634_nsynth.zip\n",
            "100% 130M/130M [00:02<00:00, 57.9MB/s]\n"
          ]
        }
      ]
    },
    {
      "cell_type": "code",
      "source": [
        "# uncompress the zip file\n",
        "!unzip gct634_nsynth.zip"
      ],
      "metadata": {
        "id": "2u6XI0ew4EfO"
      },
      "execution_count": null,
      "outputs": []
    },
    {
      "cell_type": "code",
      "source": [
        "\n",
        "# Change this data path with your own local path\n",
        "data_path = './drive/MyDrive/gct634_nsynth/'\n",
        "\n",
        "# path to store MFCC\n",
        "mfcc_path = './nsynth_features/mfcc/'\n",
        "\n",
        "MFCC_DIM = 20\n",
        "\n",
        "NUM_TRAIN = 1100\n",
        "NUM_VALID = 300\n"
      ],
      "metadata": {
        "id": "T01AqcUyw-Wo"
      },
      "execution_count": null,
      "outputs": []
    },
    {
      "cell_type": "markdown",
      "source": [
        "# Feature Extraction"
      ],
      "metadata": {
        "id": "8wJ3td3nraXx"
      }
    },
    {
      "cell_type": "code",
      "source": [
        "def extract_mfcc(dataset='train'):\n",
        "    f = open(data_path + dataset + '_list.txt','r')\n",
        "\n",
        "    i = 0\n",
        "    for file_name in f:\n",
        "        # progress check\n",
        "        i = i + 1\n",
        "        if not (i % 10):\n",
        "            if dataset == 'train':\n",
        "              print(\"\\r {:.2f}%\".format(i/NUM_TRAIN*100), end='')\n",
        "            elif dataset == 'valid':\n",
        "              print(\"\\r {:.2f}%\".format(i/NUM_VALID*100), end='')\n",
        "\n",
        "        # load audio file\n",
        "        file_name = file_name.rstrip('\\n')\n",
        "        file_path = data_path + file_name\n",
        "        y, sr = librosa.load(file_path, sr=22050)\n",
        "\n",
        "        ##### Method 1\n",
        "        mfcc = librosa.feature.mfcc(y=y, sr=sr, n_mfcc=MFCC_DIM)\n",
        "\n",
        "        ##### Method 2\n",
        "        \"\"\"\n",
        "        # STFT\n",
        "        S = librosa.core.stft(y, n_fft=1024, hop_length=512, win_length=1024)\n",
        "\n",
        "        # power spectrum\n",
        "        D = np.abs(S)**2\n",
        "\n",
        "        # mel spectrogram (512 --> 40)\n",
        "        mel_basis = librosa.filters.mel(sr, 1024, n_mels=40)\n",
        "        mel_S = np.dot(mel_basis, D)\n",
        "\n",
        "        #log compression\n",
        "        log_mel_S = librosa.power_to_db(mel_S)\n",
        "\n",
        "        # mfcc (DCT)\n",
        "        mfcc = librosa.feature.mfcc(S=log_mel_S, n_mfcc=13)\n",
        "        mfcc = mfcc.astype(np.float32)    # to save the memory (64 to 32 bits)\n",
        "        \"\"\"\n",
        "\n",
        "        # save mfcc as a file\n",
        "        file_name = file_name.replace('.wav','.npy')\n",
        "        save_file = mfcc_path + file_name\n",
        "\n",
        "        if not os.path.exists(os.path.dirname(save_file)):\n",
        "            os.makedirs(os.path.dirname(save_file))\n",
        "        np.save(save_file, mfcc)\n",
        "\n",
        "    f.close()"
      ],
      "metadata": {
        "id": "bx_auh0kqFK8"
      },
      "execution_count": null,
      "outputs": []
    },
    {
      "cell_type": "code",
      "source": [
        "extract_mfcc(dataset='train')\n",
        "extract_mfcc(dataset='valid')"
      ],
      "metadata": {
        "colab": {
          "base_uri": "https://localhost:8080/"
        },
        "id": "szD9RYICqFOU",
        "outputId": "488b0a75-4e5d-40e8-fad7-9dbf323b9fa2"
      },
      "execution_count": null,
      "outputs": [
        {
          "output_type": "stream",
          "name": "stdout",
          "text": [
            " 100.00%"
          ]
        }
      ]
    },
    {
      "cell_type": "markdown",
      "source": [
        "# Feature Summary"
      ],
      "metadata": {
        "id": "DHhdy0Qtwa5d"
      }
    },
    {
      "cell_type": "code",
      "source": [
        "def mean_mfcc(dataset='train'):\n",
        "\n",
        "    f = open(data_path + dataset + '_list.txt','r')\n",
        "\n",
        "    if dataset == 'train':\n",
        "        mfcc_mat = np.zeros(shape=(MFCC_DIM, NUM_TRAIN))\n",
        "    elif dataset == 'valid':\n",
        "        mfcc_mat = np.zeros(shape=(MFCC_DIM, NUM_VALID))\n",
        "\n",
        "    i = 0\n",
        "    for file_name in f:\n",
        "\n",
        "        # load mfcc file\n",
        "        file_name = file_name.rstrip('\\n')\n",
        "        file_name = file_name.replace('.wav','.npy')\n",
        "        mfcc_file = mfcc_path + file_name\n",
        "        mfcc = np.load(mfcc_file)\n",
        "\n",
        "        # mean pooling\n",
        "        temp = np.mean(mfcc, axis=1)\n",
        "        mfcc_mat[:,i]= np.mean(mfcc, axis=1)\n",
        "        i = i + 1\n",
        "\n",
        "    f.close()\n",
        "\n",
        "    return mfcc_mat\n"
      ],
      "metadata": {
        "id": "NMWshuVQwcoR"
      },
      "execution_count": null,
      "outputs": []
    },
    {
      "cell_type": "code",
      "source": [
        "train_mfcc = mean_mfcc('train')\n",
        "valid_mfcc = mean_mfcc('valid')"
      ],
      "metadata": {
        "id": "qFYUYDZBwc0p"
      },
      "execution_count": null,
      "outputs": []
    },
    {
      "cell_type": "code",
      "source": [
        "plt.figure(1)\n",
        "plt.subplot(2,1,1)\n",
        "plt.imshow(train_mfcc, interpolation='nearest', origin='lower', aspect='auto')\n",
        "\n",
        "plt.subplot(2,1,2)\n",
        "plt.imshow(valid_mfcc, interpolation='nearest', origin='lower', aspect='auto')\n",
        "\n",
        "plt.show()\n",
        "\n"
      ],
      "metadata": {
        "colab": {
          "base_uri": "https://localhost:8080/",
          "height": 430
        },
        "id": "UaAMZUAF1Kim",
        "outputId": "b37c02c5-557e-40cc-82ca-4086e8fff7a6"
      },
      "execution_count": null,
      "outputs": [
        {
          "output_type": "display_data",
          "data": {
            "text/plain": [
              "<Figure size 640x480 with 2 Axes>"
            ],
            "image/png": "[encoded data removed]"
          },
          "metadata": {}
        }
      ]
    },
    {
      "cell_type": "markdown",
      "source": [
        "# Data Preparation"
      ],
      "metadata": {
        "id": "a5VV5fYs1oOP"
      }
    },
    {
      "cell_type": "code",
      "source": [
        "# load data\n",
        "train_X = train_mfcc\n",
        "valid_X = valid_mfcc\n",
        "\n",
        "# label generation\n",
        "cls = np.array([1,2,3,4,5,6,7,8,9,10])\n",
        "train_Y = np.repeat(cls, int(NUM_TRAIN/10))\n",
        "valid_Y = np.repeat(cls, int(NUM_VALID/10))\n",
        "\n",
        "# feature normalizaiton\n",
        "train_X = train_X.T\n",
        "train_X_mean = np.mean(train_X, axis=0)\n",
        "train_X = train_X - train_X_mean\n",
        "train_X_std = np.std(train_X, axis=0)\n",
        "train_X = train_X / (train_X_std + 1e-5)\n",
        "\n",
        "valid_X = valid_X.T\n",
        "valid_X = valid_X - train_X_mean\n",
        "valid_X = valid_X/(train_X_std + 1e-5)\n"
      ],
      "metadata": {
        "id": "pNtBm7VQwc_Z"
      },
      "execution_count": null,
      "outputs": []
    },
    {
      "cell_type": "markdown",
      "source": [
        "# ML Model Training & Validation"
      ],
      "metadata": {
        "id": "_nGF3xSl7JBl"
      }
    },
    {
      "cell_type": "code",
      "source": [
        "def train_model(train_X, train_Y, valid_X, valid_Y, hyper_param1):\n",
        "\n",
        "    # Choose a classifier (here, linear SVM)\n",
        "    clf = SGDClassifier(verbose=0, loss=\"hinge\", alpha=hyper_param1, max_iter=1000, penalty=\"l2\", random_state=0)\n",
        "\n",
        "    # train\n",
        "    clf.fit(train_X, train_Y)\n",
        "\n",
        "    # validation\n",
        "    valid_Y_hat = clf.predict(valid_X)\n",
        "\n",
        "    accuracy = np.sum((valid_Y_hat == valid_Y))/NUM_VALID*100.0\n",
        "\n",
        "    return clf, accuracy\n"
      ],
      "metadata": {
        "id": "M4cuL_gOwdCx"
      },
      "execution_count": null,
      "outputs": []
    },
    {
      "cell_type": "code",
      "source": [
        "# training model\n",
        "alphas = [0.0001, 0.001, 0.01, 0.1, 1]\n",
        "\n",
        "model = []\n",
        "valid_acc = []\n",
        "\n",
        "# model search\n",
        "for a in alphas:\n",
        "  clf, acc = train_model(train_X, train_Y, valid_X, valid_Y, a)\n",
        "  model.append(clf)\n",
        "  valid_acc.append(acc)\n",
        "\n",
        "  print(f'alpha={a:.4f}, validation acc={acc:.2f}%')\n",
        "\n",
        "# choose the model that achieve the best validation accuracy\n",
        "final_model = model[np.argmax(valid_acc)]\n",
        "\n",
        "print(f'Best validation acc={valid_acc[np.argmax(valid_acc)]:.2f}%')\n"
      ],
      "metadata": {
        "colab": {
          "base_uri": "https://localhost:8080/"
        },
        "id": "fr9QpNSd2TNV",
        "outputId": "af424197-e7a4-412c-a0f2-02ef15c159c6"
      },
      "execution_count": null,
      "outputs": [
        {
          "output_type": "stream",
          "name": "stdout",
          "text": [
            "alpha=0.0001, validation acc=69.33%\n",
            "alpha=0.0010, validation acc=74.00%\n",
            "alpha=0.0100, validation acc=72.00%\n",
            "alpha=0.1000, validation acc=68.00%\n",
            "alpha=1.0000, validation acc=60.67%\n",
            "Best validation acc=74.00%\n"
          ]
        }
      ]
    }
  ]
}